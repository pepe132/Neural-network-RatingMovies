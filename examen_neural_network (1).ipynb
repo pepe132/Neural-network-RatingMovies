{
  "nbformat": 4,
  "nbformat_minor": 0,
  "metadata": {
    "colab": {
      "provenance": []
    },
    "kernelspec": {
      "name": "python3",
      "display_name": "Python 3"
    },
    "language_info": {
      "name": "python"
    }
  },
  "cells": [
    {
      "cell_type": "code",
      "execution_count": null,
      "metadata": {
        "id": "VAO5zrMtXDr4"
      },
      "outputs": [],
      "source": [
        "import numpy as np\n",
        "import pandas as pd\n",
        "import matplotlib.pyplot as plt"
      ]
    },
    {
      "cell_type": "markdown",
      "source": [
        "Analisis exploratorio de **datos**"
      ],
      "metadata": {
        "id": "NA7xnVvMufDT"
      }
    },
    {
      "cell_type": "code",
      "source": [
        "from google.colab import drive\n",
        "drive.mount('/content/drive')\n",
        "dataset = pd.read_csv(r\"/content/drive/My Drive/movie_data.csv\")\n",
        "dataset.head(25)\n"
      ],
      "metadata": {
        "colab": {
          "base_uri": "https://localhost:8080/",
          "height": 850
        },
        "id": "KpD5bY3kXsZk",
        "outputId": "1b032610-b871-410b-f66c-30ffb288ffa9"
      },
      "execution_count": null,
      "outputs": [
        {
          "output_type": "stream",
          "name": "stdout",
          "text": [
            "Drive already mounted at /content/drive; to attempt to forcibly remount, call drive.mount(\"/content/drive\", force_remount=True).\n"
          ]
        },
        {
          "output_type": "execute_result",
          "data": {
            "text/plain": [
              "                                               review  sentiment\n",
              "0   In 1974, the teenager Martha Moxley (Maggie Gr...          1\n",
              "1   OK... so... I really like Kris Kristofferson a...          0\n",
              "2   ***SPOILER*** Do not read this, if you think a...          0\n",
              "3   hi for all the people who have seen this wonde...          1\n",
              "4   I recently bought the DVD, forgetting just how...          0\n",
              "5   Leave it to Braik to put on a good show. Final...          1\n",
              "6   Nathan Detroit (Frank Sinatra) is the manager ...          1\n",
              "7   To understand \"Crash Course\" in the right cont...          1\n",
              "8   I've been impressed with Chavez's stance again...          1\n",
              "9   This movie is directed by Renny Harlin the fin...          1\n",
              "10  I once lived in the u.p and let me tell you wh...          0\n",
              "11  Hidden Frontier is notable for being the longe...          1\n",
              "12  It's a while ago, that I have seen Sleuth (197...          0\n",
              "13  What is it about the French? First, they (appa...          0\n",
              "14  This very strange movie is unlike anything mad...          1\n",
              "15  I saw this movie on the strength of the single...          0\n",
              "16  There are some great philosophical questions. ...          0\n",
              "17  I was cast as the Surfer Dude in the beach sce...          1\n",
              "18  I had high hopes for this one until they chang...          0\n",
              "19  Set in and near a poor working class town in t...          1\n",
              "20  Opulent sets and sumptuous costumes well photo...          0\n",
              "21  i saw the film and i got screwed, because the ...          0\n",
              "22  I'm getting a little tired of people misusing ...          0\n",
              "23  How offensive! Those who liked this movie have...          0\n",
              "24  What else can you say about this movie,except ...          0"
            ],
            "text/html": [
              "\n",
              "  <div id=\"df-e4b1a63e-8396-46b3-89c8-32a62011596a\">\n",
              "    <div class=\"colab-df-container\">\n",
              "      <div>\n",
              "<style scoped>\n",
              "    .dataframe tbody tr th:only-of-type {\n",
              "        vertical-align: middle;\n",
              "    }\n",
              "\n",
              "    .dataframe tbody tr th {\n",
              "        vertical-align: top;\n",
              "    }\n",
              "\n",
              "    .dataframe thead th {\n",
              "        text-align: right;\n",
              "    }\n",
              "</style>\n",
              "<table border=\"1\" class=\"dataframe\">\n",
              "  <thead>\n",
              "    <tr style=\"text-align: right;\">\n",
              "      <th></th>\n",
              "      <th>review</th>\n",
              "      <th>sentiment</th>\n",
              "    </tr>\n",
              "  </thead>\n",
              "  <tbody>\n",
              "    <tr>\n",
              "      <th>0</th>\n",
              "      <td>In 1974, the teenager Martha Moxley (Maggie Gr...</td>\n",
              "      <td>1</td>\n",
              "    </tr>\n",
              "    <tr>\n",
              "      <th>1</th>\n",
              "      <td>OK... so... I really like Kris Kristofferson a...</td>\n",
              "      <td>0</td>\n",
              "    </tr>\n",
              "    <tr>\n",
              "      <th>2</th>\n",
              "      <td>***SPOILER*** Do not read this, if you think a...</td>\n",
              "      <td>0</td>\n",
              "    </tr>\n",
              "    <tr>\n",
              "      <th>3</th>\n",
              "      <td>hi for all the people who have seen this wonde...</td>\n",
              "      <td>1</td>\n",
              "    </tr>\n",
              "    <tr>\n",
              "      <th>4</th>\n",
              "      <td>I recently bought the DVD, forgetting just how...</td>\n",
              "      <td>0</td>\n",
              "    </tr>\n",
              "    <tr>\n",
              "      <th>5</th>\n",
              "      <td>Leave it to Braik to put on a good show. Final...</td>\n",
              "      <td>1</td>\n",
              "    </tr>\n",
              "    <tr>\n",
              "      <th>6</th>\n",
              "      <td>Nathan Detroit (Frank Sinatra) is the manager ...</td>\n",
              "      <td>1</td>\n",
              "    </tr>\n",
              "    <tr>\n",
              "      <th>7</th>\n",
              "      <td>To understand \"Crash Course\" in the right cont...</td>\n",
              "      <td>1</td>\n",
              "    </tr>\n",
              "    <tr>\n",
              "      <th>8</th>\n",
              "      <td>I've been impressed with Chavez's stance again...</td>\n",
              "      <td>1</td>\n",
              "    </tr>\n",
              "    <tr>\n",
              "      <th>9</th>\n",
              "      <td>This movie is directed by Renny Harlin the fin...</td>\n",
              "      <td>1</td>\n",
              "    </tr>\n",
              "    <tr>\n",
              "      <th>10</th>\n",
              "      <td>I once lived in the u.p and let me tell you wh...</td>\n",
              "      <td>0</td>\n",
              "    </tr>\n",
              "    <tr>\n",
              "      <th>11</th>\n",
              "      <td>Hidden Frontier is notable for being the longe...</td>\n",
              "      <td>1</td>\n",
              "    </tr>\n",
              "    <tr>\n",
              "      <th>12</th>\n",
              "      <td>It's a while ago, that I have seen Sleuth (197...</td>\n",
              "      <td>0</td>\n",
              "    </tr>\n",
              "    <tr>\n",
              "      <th>13</th>\n",
              "      <td>What is it about the French? First, they (appa...</td>\n",
              "      <td>0</td>\n",
              "    </tr>\n",
              "    <tr>\n",
              "      <th>14</th>\n",
              "      <td>This very strange movie is unlike anything mad...</td>\n",
              "      <td>1</td>\n",
              "    </tr>\n",
              "    <tr>\n",
              "      <th>15</th>\n",
              "      <td>I saw this movie on the strength of the single...</td>\n",
              "      <td>0</td>\n",
              "    </tr>\n",
              "    <tr>\n",
              "      <th>16</th>\n",
              "      <td>There are some great philosophical questions. ...</td>\n",
              "      <td>0</td>\n",
              "    </tr>\n",
              "    <tr>\n",
              "      <th>17</th>\n",
              "      <td>I was cast as the Surfer Dude in the beach sce...</td>\n",
              "      <td>1</td>\n",
              "    </tr>\n",
              "    <tr>\n",
              "      <th>18</th>\n",
              "      <td>I had high hopes for this one until they chang...</td>\n",
              "      <td>0</td>\n",
              "    </tr>\n",
              "    <tr>\n",
              "      <th>19</th>\n",
              "      <td>Set in and near a poor working class town in t...</td>\n",
              "      <td>1</td>\n",
              "    </tr>\n",
              "    <tr>\n",
              "      <th>20</th>\n",
              "      <td>Opulent sets and sumptuous costumes well photo...</td>\n",
              "      <td>0</td>\n",
              "    </tr>\n",
              "    <tr>\n",
              "      <th>21</th>\n",
              "      <td>i saw the film and i got screwed, because the ...</td>\n",
              "      <td>0</td>\n",
              "    </tr>\n",
              "    <tr>\n",
              "      <th>22</th>\n",
              "      <td>I'm getting a little tired of people misusing ...</td>\n",
              "      <td>0</td>\n",
              "    </tr>\n",
              "    <tr>\n",
              "      <th>23</th>\n",
              "      <td>How offensive! Those who liked this movie have...</td>\n",
              "      <td>0</td>\n",
              "    </tr>\n",
              "    <tr>\n",
              "      <th>24</th>\n",
              "      <td>What else can you say about this movie,except ...</td>\n",
              "      <td>0</td>\n",
              "    </tr>\n",
              "  </tbody>\n",
              "</table>\n",
              "</div>\n",
              "      <button class=\"colab-df-convert\" onclick=\"convertToInteractive('df-e4b1a63e-8396-46b3-89c8-32a62011596a')\"\n",
              "              title=\"Convert this dataframe to an interactive table.\"\n",
              "              style=\"display:none;\">\n",
              "        \n",
              "  <svg xmlns=\"http://www.w3.org/2000/svg\" height=\"24px\"viewBox=\"0 0 24 24\"\n",
              "       width=\"24px\">\n",
              "    <path d=\"M0 0h24v24H0V0z\" fill=\"none\"/>\n",
              "    <path d=\"M18.56 5.44l.94 2.06.94-2.06 2.06-.94-2.06-.94-.94-2.06-.94 2.06-2.06.94zm-11 1L8.5 8.5l.94-2.06 2.06-.94-2.06-.94L8.5 2.5l-.94 2.06-2.06.94zm10 10l.94 2.06.94-2.06 2.06-.94-2.06-.94-.94-2.06-.94 2.06-2.06.94z\"/><path d=\"M17.41 7.96l-1.37-1.37c-.4-.4-.92-.59-1.43-.59-.52 0-1.04.2-1.43.59L10.3 9.45l-7.72 7.72c-.78.78-.78 2.05 0 2.83L4 21.41c.39.39.9.59 1.41.59.51 0 1.02-.2 1.41-.59l7.78-7.78 2.81-2.81c.8-.78.8-2.07 0-2.86zM5.41 20L4 18.59l7.72-7.72 1.47 1.35L5.41 20z\"/>\n",
              "  </svg>\n",
              "      </button>\n",
              "      \n",
              "  <style>\n",
              "    .colab-df-container {\n",
              "      display:flex;\n",
              "      flex-wrap:wrap;\n",
              "      gap: 12px;\n",
              "    }\n",
              "\n",
              "    .colab-df-convert {\n",
              "      background-color: #E8F0FE;\n",
              "      border: none;\n",
              "      border-radius: 50%;\n",
              "      cursor: pointer;\n",
              "      display: none;\n",
              "      fill: #1967D2;\n",
              "      height: 32px;\n",
              "      padding: 0 0 0 0;\n",
              "      width: 32px;\n",
              "    }\n",
              "\n",
              "    .colab-df-convert:hover {\n",
              "      background-color: #E2EBFA;\n",
              "      box-shadow: 0px 1px 2px rgba(60, 64, 67, 0.3), 0px 1px 3px 1px rgba(60, 64, 67, 0.15);\n",
              "      fill: #174EA6;\n",
              "    }\n",
              "\n",
              "    [theme=dark] .colab-df-convert {\n",
              "      background-color: #3B4455;\n",
              "      fill: #D2E3FC;\n",
              "    }\n",
              "\n",
              "    [theme=dark] .colab-df-convert:hover {\n",
              "      background-color: #434B5C;\n",
              "      box-shadow: 0px 1px 3px 1px rgba(0, 0, 0, 0.15);\n",
              "      filter: drop-shadow(0px 1px 2px rgba(0, 0, 0, 0.3));\n",
              "      fill: #FFFFFF;\n",
              "    }\n",
              "  </style>\n",
              "\n",
              "      <script>\n",
              "        const buttonEl =\n",
              "          document.querySelector('#df-e4b1a63e-8396-46b3-89c8-32a62011596a button.colab-df-convert');\n",
              "        buttonEl.style.display =\n",
              "          google.colab.kernel.accessAllowed ? 'block' : 'none';\n",
              "\n",
              "        async function convertToInteractive(key) {\n",
              "          const element = document.querySelector('#df-e4b1a63e-8396-46b3-89c8-32a62011596a');\n",
              "          const dataTable =\n",
              "            await google.colab.kernel.invokeFunction('convertToInteractive',\n",
              "                                                     [key], {});\n",
              "          if (!dataTable) return;\n",
              "\n",
              "          const docLinkHtml = 'Like what you see? Visit the ' +\n",
              "            '<a target=\"_blank\" href=https://colab.research.google.com/notebooks/data_table.ipynb>data table notebook</a>'\n",
              "            + ' to learn more about interactive tables.';\n",
              "          element.innerHTML = '';\n",
              "          dataTable['output_type'] = 'display_data';\n",
              "          await google.colab.output.renderOutput(dataTable, element);\n",
              "          const docLink = document.createElement('div');\n",
              "          docLink.innerHTML = docLinkHtml;\n",
              "          element.appendChild(docLink);\n",
              "        }\n",
              "      </script>\n",
              "    </div>\n",
              "  </div>\n",
              "  "
            ]
          },
          "metadata": {},
          "execution_count": 2
        }
      ]
    },
    {
      "cell_type": "code",
      "source": [
        "dataset.shape"
      ],
      "metadata": {
        "colab": {
          "base_uri": "https://localhost:8080/"
        },
        "id": "Qx3KpR_Pa1rW",
        "outputId": "b86b6540-212c-4ec1-c26c-19e6a1b64fe9"
      },
      "execution_count": null,
      "outputs": [
        {
          "output_type": "execute_result",
          "data": {
            "text/plain": [
              "(50000, 2)"
            ]
          },
          "metadata": {},
          "execution_count": 3
        }
      ]
    },
    {
      "cell_type": "code",
      "source": [
        "dataset.head()"
      ],
      "metadata": {
        "colab": {
          "base_uri": "https://localhost:8080/",
          "height": 206
        },
        "id": "m5Z4PiVabBZx",
        "outputId": "f1670cad-ad14-40f2-e8f3-a6978a50ed51"
      },
      "execution_count": null,
      "outputs": [
        {
          "output_type": "execute_result",
          "data": {
            "text/plain": [
              "                                              review  sentiment\n",
              "0  In 1974, the teenager Martha Moxley (Maggie Gr...          1\n",
              "1  OK... so... I really like Kris Kristofferson a...          0\n",
              "2  ***SPOILER*** Do not read this, if you think a...          0\n",
              "3  hi for all the people who have seen this wonde...          1\n",
              "4  I recently bought the DVD, forgetting just how...          0"
            ],
            "text/html": [
              "\n",
              "  <div id=\"df-679406e8-fc68-4e1a-91b1-a5b1af1cbbf4\">\n",
              "    <div class=\"colab-df-container\">\n",
              "      <div>\n",
              "<style scoped>\n",
              "    .dataframe tbody tr th:only-of-type {\n",
              "        vertical-align: middle;\n",
              "    }\n",
              "\n",
              "    .dataframe tbody tr th {\n",
              "        vertical-align: top;\n",
              "    }\n",
              "\n",
              "    .dataframe thead th {\n",
              "        text-align: right;\n",
              "    }\n",
              "</style>\n",
              "<table border=\"1\" class=\"dataframe\">\n",
              "  <thead>\n",
              "    <tr style=\"text-align: right;\">\n",
              "      <th></th>\n",
              "      <th>review</th>\n",
              "      <th>sentiment</th>\n",
              "    </tr>\n",
              "  </thead>\n",
              "  <tbody>\n",
              "    <tr>\n",
              "      <th>0</th>\n",
              "      <td>In 1974, the teenager Martha Moxley (Maggie Gr...</td>\n",
              "      <td>1</td>\n",
              "    </tr>\n",
              "    <tr>\n",
              "      <th>1</th>\n",
              "      <td>OK... so... I really like Kris Kristofferson a...</td>\n",
              "      <td>0</td>\n",
              "    </tr>\n",
              "    <tr>\n",
              "      <th>2</th>\n",
              "      <td>***SPOILER*** Do not read this, if you think a...</td>\n",
              "      <td>0</td>\n",
              "    </tr>\n",
              "    <tr>\n",
              "      <th>3</th>\n",
              "      <td>hi for all the people who have seen this wonde...</td>\n",
              "      <td>1</td>\n",
              "    </tr>\n",
              "    <tr>\n",
              "      <th>4</th>\n",
              "      <td>I recently bought the DVD, forgetting just how...</td>\n",
              "      <td>0</td>\n",
              "    </tr>\n",
              "  </tbody>\n",
              "</table>\n",
              "</div>\n",
              "      <button class=\"colab-df-convert\" onclick=\"convertToInteractive('df-679406e8-fc68-4e1a-91b1-a5b1af1cbbf4')\"\n",
              "              title=\"Convert this dataframe to an interactive table.\"\n",
              "              style=\"display:none;\">\n",
              "        \n",
              "  <svg xmlns=\"http://www.w3.org/2000/svg\" height=\"24px\"viewBox=\"0 0 24 24\"\n",
              "       width=\"24px\">\n",
              "    <path d=\"M0 0h24v24H0V0z\" fill=\"none\"/>\n",
              "    <path d=\"M18.56 5.44l.94 2.06.94-2.06 2.06-.94-2.06-.94-.94-2.06-.94 2.06-2.06.94zm-11 1L8.5 8.5l.94-2.06 2.06-.94-2.06-.94L8.5 2.5l-.94 2.06-2.06.94zm10 10l.94 2.06.94-2.06 2.06-.94-2.06-.94-.94-2.06-.94 2.06-2.06.94z\"/><path d=\"M17.41 7.96l-1.37-1.37c-.4-.4-.92-.59-1.43-.59-.52 0-1.04.2-1.43.59L10.3 9.45l-7.72 7.72c-.78.78-.78 2.05 0 2.83L4 21.41c.39.39.9.59 1.41.59.51 0 1.02-.2 1.41-.59l7.78-7.78 2.81-2.81c.8-.78.8-2.07 0-2.86zM5.41 20L4 18.59l7.72-7.72 1.47 1.35L5.41 20z\"/>\n",
              "  </svg>\n",
              "      </button>\n",
              "      \n",
              "  <style>\n",
              "    .colab-df-container {\n",
              "      display:flex;\n",
              "      flex-wrap:wrap;\n",
              "      gap: 12px;\n",
              "    }\n",
              "\n",
              "    .colab-df-convert {\n",
              "      background-color: #E8F0FE;\n",
              "      border: none;\n",
              "      border-radius: 50%;\n",
              "      cursor: pointer;\n",
              "      display: none;\n",
              "      fill: #1967D2;\n",
              "      height: 32px;\n",
              "      padding: 0 0 0 0;\n",
              "      width: 32px;\n",
              "    }\n",
              "\n",
              "    .colab-df-convert:hover {\n",
              "      background-color: #E2EBFA;\n",
              "      box-shadow: 0px 1px 2px rgba(60, 64, 67, 0.3), 0px 1px 3px 1px rgba(60, 64, 67, 0.15);\n",
              "      fill: #174EA6;\n",
              "    }\n",
              "\n",
              "    [theme=dark] .colab-df-convert {\n",
              "      background-color: #3B4455;\n",
              "      fill: #D2E3FC;\n",
              "    }\n",
              "\n",
              "    [theme=dark] .colab-df-convert:hover {\n",
              "      background-color: #434B5C;\n",
              "      box-shadow: 0px 1px 3px 1px rgba(0, 0, 0, 0.15);\n",
              "      filter: drop-shadow(0px 1px 2px rgba(0, 0, 0, 0.3));\n",
              "      fill: #FFFFFF;\n",
              "    }\n",
              "  </style>\n",
              "\n",
              "      <script>\n",
              "        const buttonEl =\n",
              "          document.querySelector('#df-679406e8-fc68-4e1a-91b1-a5b1af1cbbf4 button.colab-df-convert');\n",
              "        buttonEl.style.display =\n",
              "          google.colab.kernel.accessAllowed ? 'block' : 'none';\n",
              "\n",
              "        async function convertToInteractive(key) {\n",
              "          const element = document.querySelector('#df-679406e8-fc68-4e1a-91b1-a5b1af1cbbf4');\n",
              "          const dataTable =\n",
              "            await google.colab.kernel.invokeFunction('convertToInteractive',\n",
              "                                                     [key], {});\n",
              "          if (!dataTable) return;\n",
              "\n",
              "          const docLinkHtml = 'Like what you see? Visit the ' +\n",
              "            '<a target=\"_blank\" href=https://colab.research.google.com/notebooks/data_table.ipynb>data table notebook</a>'\n",
              "            + ' to learn more about interactive tables.';\n",
              "          element.innerHTML = '';\n",
              "          dataTable['output_type'] = 'display_data';\n",
              "          await google.colab.output.renderOutput(dataTable, element);\n",
              "          const docLink = document.createElement('div');\n",
              "          docLink.innerHTML = docLinkHtml;\n",
              "          element.appendChild(docLink);\n",
              "        }\n",
              "      </script>\n",
              "    </div>\n",
              "  </div>\n",
              "  "
            ]
          },
          "metadata": {},
          "execution_count": 4
        }
      ]
    },
    {
      "cell_type": "code",
      "source": [
        "from sklearn.preprocessing import LabelEncoder\n",
        "le = LabelEncoder()"
      ],
      "metadata": {
        "id": "M-AR7ETAbE0t"
      },
      "execution_count": null,
      "outputs": []
    },
    {
      "cell_type": "code",
      "source": [
        "y = dataset['sentiment'].values"
      ],
      "metadata": {
        "id": "umq8YGdsbKaO"
      },
      "execution_count": null,
      "outputs": []
    },
    {
      "cell_type": "code",
      "source": [
        "dataset['review'][11]"
      ],
      "metadata": {
        "colab": {
          "base_uri": "https://localhost:8080/",
          "height": 123
        },
        "id": "rE7XGRVobM-t",
        "outputId": "c6c2ff94-b1ff-4338-e5b5-050c9426634b"
      },
      "execution_count": null,
      "outputs": [
        {
          "output_type": "execute_result",
          "data": {
            "text/plain": [
              "\"Hidden Frontier is notable for being the longest running internet-based Star Trek fan series. While the production quality is not on a par with fan productions like Starship Exeter, or New Voyages, Hidden Frontier concentrates largely on story, and in that regard it does very well indeed.<br /><br />Hidden Frontier has no physical sets; instead actors are filmed against a greenscreen, and the backgrounds inserted digitally. One of Hidden Frontier's greatest achievements is the sheer volume of work they have produced. One of the ways in which this is achieved is by inserting the virtual sets at the time of filming, instead of in post-production. While this does save a great deal of time, it's also worth noting that the quality of the resultant footage is not as high as if it had been produced in post-production, though it still serves its purpose. <br /><br />While it may not be everyone's cup of tea, Hidden Frontier is well worth a shot, though you might be best to start off watching the third season, since this is where the producers really start to hit their stride.\""
            ],
            "application/vnd.google.colaboratory.intrinsic+json": {
              "type": "string"
            }
          },
          "metadata": {},
          "execution_count": 7
        }
      ]
    },
    {
      "cell_type": "markdown",
      "source": [
        "Ingeniería / selección de características + limpieza de datos (si es necesario)"
      ],
      "metadata": {
        "id": "GEKEA9lPupXX"
      }
    },
    {
      "cell_type": "code",
      "source": [
        "import nltk\n",
        "import re\n",
        "from nltk.corpus import stopwords\n",
        "from nltk.stem import PorterStemmer"
      ],
      "metadata": {
        "id": "o5PpPulhbQwQ"
      },
      "execution_count": null,
      "outputs": []
    },
    {
      "cell_type": "code",
      "source": [
        "nltk.download('stopwords')\n",
        "sw = set(stopwords.words('english'))\n",
        "print(stopwords.words('english'))\n",
        "ps = PorterStemmer()"
      ],
      "metadata": {
        "colab": {
          "base_uri": "https://localhost:8080/"
        },
        "id": "BbTbYUrFbXLh",
        "outputId": "a74fde8d-d76d-4bf2-f0f5-8de76b74377a"
      },
      "execution_count": null,
      "outputs": [
        {
          "output_type": "stream",
          "name": "stdout",
          "text": [
            "['i', 'me', 'my', 'myself', 'we', 'our', 'ours', 'ourselves', 'you', \"you're\", \"you've\", \"you'll\", \"you'd\", 'your', 'yours', 'yourself', 'yourselves', 'he', 'him', 'his', 'himself', 'she', \"she's\", 'her', 'hers', 'herself', 'it', \"it's\", 'its', 'itself', 'they', 'them', 'their', 'theirs', 'themselves', 'what', 'which', 'who', 'whom', 'this', 'that', \"that'll\", 'these', 'those', 'am', 'is', 'are', 'was', 'were', 'be', 'been', 'being', 'have', 'has', 'had', 'having', 'do', 'does', 'did', 'doing', 'a', 'an', 'the', 'and', 'but', 'if', 'or', 'because', 'as', 'until', 'while', 'of', 'at', 'by', 'for', 'with', 'about', 'against', 'between', 'into', 'through', 'during', 'before', 'after', 'above', 'below', 'to', 'from', 'up', 'down', 'in', 'out', 'on', 'off', 'over', 'under', 'again', 'further', 'then', 'once', 'here', 'there', 'when', 'where', 'why', 'how', 'all', 'any', 'both', 'each', 'few', 'more', 'most', 'other', 'some', 'such', 'no', 'nor', 'not', 'only', 'own', 'same', 'so', 'than', 'too', 'very', 's', 't', 'can', 'will', 'just', 'don', \"don't\", 'should', \"should've\", 'now', 'd', 'll', 'm', 'o', 're', 've', 'y', 'ain', 'aren', \"aren't\", 'couldn', \"couldn't\", 'didn', \"didn't\", 'doesn', \"doesn't\", 'hadn', \"hadn't\", 'hasn', \"hasn't\", 'haven', \"haven't\", 'isn', \"isn't\", 'ma', 'mightn', \"mightn't\", 'mustn', \"mustn't\", 'needn', \"needn't\", 'shan', \"shan't\", 'shouldn', \"shouldn't\", 'wasn', \"wasn't\", 'weren', \"weren't\", 'won', \"won't\", 'wouldn', \"wouldn't\"]\n"
          ]
        },
        {
          "output_type": "stream",
          "name": "stderr",
          "text": [
            "[nltk_data] Downloading package stopwords to /root/nltk_data...\n",
            "[nltk_data]   Package stopwords is already up-to-date!\n"
          ]
        }
      ]
    },
    {
      "cell_type": "code",
      "source": [
        "def clean_text(sample):\n",
        "    sample = sample.lower()\n",
        "    sample = sample.replace(\"<br /><br />\", \"\")\n",
        "    sample = re.sub(\"[^a-zA-Z]+\", \" \", sample)\n",
        "    \n",
        "    sample = sample.split()\n",
        "    \n",
        "    sample = [ps.stem(s) for s in sample if s not in sw] # list comprehension\n",
        "    \n",
        "    sample = \" \".join(sample)\n",
        "    \n",
        "    return sample"
      ],
      "metadata": {
        "id": "nr9je3EWbcVd"
      },
      "execution_count": null,
      "outputs": []
    },
    {
      "cell_type": "code",
      "source": [
        "clean_text(dataset['review'][11])"
      ],
      "metadata": {
        "colab": {
          "base_uri": "https://localhost:8080/",
          "height": 88
        },
        "id": "yMQd3FpJbi11",
        "outputId": "1328cdb4-a634-452c-cf41-97ea3e3b2624"
      },
      "execution_count": null,
      "outputs": [
        {
          "output_type": "execute_result",
          "data": {
            "text/plain": [
              "'hidden frontier notabl longest run internet base star trek fan seri product qualiti par fan product like starship exet new voyag hidden frontier concentr larg stori regard well inde hidden frontier physic set instead actor film greenscreen background insert digit one hidden frontier greatest achiev sheer volum work produc one way achiev insert virtual set time film instead post product save great deal time also worth note qualiti result footag high produc post product though still serv purpos may everyon cup tea hidden frontier well worth shot though might best start watch third season sinc produc realli start hit stride'"
            ],
            "application/vnd.google.colaboratory.intrinsic+json": {
              "type": "string"
            }
          },
          "metadata": {},
          "execution_count": 11
        }
      ]
    },
    {
      "cell_type": "code",
      "source": [
        "dataset['review'][11]"
      ],
      "metadata": {
        "colab": {
          "base_uri": "https://localhost:8080/",
          "height": 123
        },
        "id": "WFTqRh8abmNe",
        "outputId": "b5b4b8a2-122b-4368-fd06-13e552750902"
      },
      "execution_count": null,
      "outputs": [
        {
          "output_type": "execute_result",
          "data": {
            "text/plain": [
              "\"Hidden Frontier is notable for being the longest running internet-based Star Trek fan series. While the production quality is not on a par with fan productions like Starship Exeter, or New Voyages, Hidden Frontier concentrates largely on story, and in that regard it does very well indeed.<br /><br />Hidden Frontier has no physical sets; instead actors are filmed against a greenscreen, and the backgrounds inserted digitally. One of Hidden Frontier's greatest achievements is the sheer volume of work they have produced. One of the ways in which this is achieved is by inserting the virtual sets at the time of filming, instead of in post-production. While this does save a great deal of time, it's also worth noting that the quality of the resultant footage is not as high as if it had been produced in post-production, though it still serves its purpose. <br /><br />While it may not be everyone's cup of tea, Hidden Frontier is well worth a shot, though you might be best to start off watching the third season, since this is where the producers really start to hit their stride.\""
            ],
            "application/vnd.google.colaboratory.intrinsic+json": {
              "type": "string"
            }
          },
          "metadata": {},
          "execution_count": 12
        }
      ]
    },
    {
      "cell_type": "code",
      "source": [
        "dataset['cleaned_review'] =  dataset['review'].apply(clean_text)"
      ],
      "metadata": {
        "id": "bhKTlSs9bpGN"
      },
      "execution_count": null,
      "outputs": []
    },
    {
      "cell_type": "code",
      "source": [
        "corpus = dataset['cleaned_review'].values\n",
        "print(corpus)\n"
      ],
      "metadata": {
        "id": "zg9Q7JCucskj",
        "colab": {
          "base_uri": "https://localhost:8080/"
        },
        "outputId": "7580216f-e26f-4fcf-c84a-70f6b416156f"
      },
      "execution_count": null,
      "outputs": [
        {
          "output_type": "stream",
          "name": "stdout",
          "text": [
            "['teenag martha moxley maggi grace move high class area bell greenwich connecticut mischief night eve halloween murder backyard hous murder remain unsolv twenti two year later writer mark fuhrman christoph meloni former la detect fallen disgrac perjuri j simpson trial move idaho decid investig case partner stephen week andrew mitchel purpos write book local squirm welcom support retir detect steve carrol robert forster charg investig discov crimin net power money cover murder murder greenwich good tv movi true stori murder fifteen year old girl commit wealthi teenag whose mother kennedi power rich famili use influenc cover murder twenti year howev snoopi detect convict perjur disgrac abl disclos hideou crime commit screenplay show investig mark last day martha parallel lack emot dramat vote seven titl brazil avail'\n",
            " 'ok realli like kri kristofferson usual easi go deliveri line movi age help soft spoken low energi style steal scene effortlessli disappear misstep holi moli bad movi must give kudo cinematographi actor includ kri tri darndest make sens goofi confus stori none made sens kri probabl understand either go motion hope someon would come tell care everyon movi love project nonsens seen low budget movi plot good sake none zilcho nada zippo empti reason complet wast good talent sceneri celluloid rent piec garbag buck want money back want hour back invest grade f wast time watch movi wast minut valuabl time pass room play even open case hold dvd believ thank advic'\n",
            " 'spoiler read think watch movi although would wast time way plot predict make differ read anyway wonder whether see coyot ugli worth either money ticket vh dvd typic chick feel good flick one could say plot shallow ridicul uncrit version american dream young good look girl small town becom big success new york desper attempt give movi depth fail tragic accid father difficulti violet relationship boyfriend mcnalli director tri arous audienc piti sad put chanc succeed attempt due bad script shallow act especi piper perabo complet fail convinc one jersey fear sing front audienc good quit funni thing coyot ugli john goodman repres small ray hope movi astonish jerri bruckheim produc movi first gone second happen great movi like rock con air true bruckheim stuff look superfici movi good look women relax even better go see charli angel much funni entertain self iron instead flick two thumb'\n",
            " ...\n",
            " 'even know begin one famili worst line dialogu ever heard horror movi although horror movi even tri ugh know owen wilson better actor need stop play token guy die everi action movi anaconda armageddon man co write bottl rocket rushmor talent also lili taylor stick indi film place final catherin zeta jone becom porn star room legitim act seriou one worst movi ever seen ever'\n",
            " 'richard tyler littl boy scare everyth like ride bike climb tree hous know kind accid might happen one day ride bike start rain decid wait librari stop rain whole stori take place experi kind staff end scare whole stori unbeliev even good actor like macaulay culkin could make stori better'\n",
            " 'wait long watch movi also like bruce willi plot quit differ expect still quit good good mix emot humor drama left think']\n"
          ]
        }
      ]
    },
    {
      "cell_type": "code",
      "source": [
        "from sklearn.feature_extraction.text import CountVectorizer, TfidfTransformer"
      ],
      "metadata": {
        "id": "4GTpNEoBcdD9"
      },
      "execution_count": null,
      "outputs": []
    },
    {
      "cell_type": "code",
      "source": [
        "cv = CountVectorizer(max_df = 0.5, max_features=50000)\n"
      ],
      "metadata": {
        "id": "Wf44r3kJcgib"
      },
      "execution_count": null,
      "outputs": []
    },
    {
      "cell_type": "code",
      "source": [
        "X = cv.fit_transform(corpus)"
      ],
      "metadata": {
        "id": "iLlfHXb4ck28"
      },
      "execution_count": null,
      "outputs": []
    },
    {
      "cell_type": "code",
      "source": [
        "print(X[0])"
      ],
      "metadata": {
        "colab": {
          "base_uri": "https://localhost:8080/"
        },
        "id": "PzJmNEtfdOwP",
        "outputId": "1c615f54-df6c-4fed-ee8e-afedb1c499be"
      },
      "execution_count": null,
      "outputs": [
        {
          "output_type": "stream",
          "name": "stdout",
          "text": [
            "  (0, 41390)\t2\n",
            "  (0, 24432)\t2\n",
            "  (0, 26343)\t1\n",
            "  (0, 23878)\t1\n",
            "  (0, 16704)\t1\n",
            "  (0, 26322)\t2\n",
            "  (0, 18293)\t1\n",
            "  (0, 8484)\t1\n",
            "  (0, 2732)\t1\n",
            "  (0, 4896)\t1\n",
            "  (0, 16872)\t2\n",
            "  (0, 9172)\t1\n",
            "  (0, 25688)\t1\n",
            "  (0, 27268)\t1\n",
            "  (0, 13534)\t1\n",
            "  (0, 17443)\t1\n",
            "  (0, 26523)\t6\n",
            "  (0, 3876)\t1\n",
            "  (0, 18820)\t1\n",
            "  (0, 32109)\t1\n",
            "  (0, 45259)\t1\n",
            "  (0, 44258)\t2\n",
            "  (0, 44298)\t1\n",
            "  (0, 49128)\t3\n",
            "  (0, 22384)\t1\n",
            "  :\t:\n",
            "  (0, 32504)\t1\n",
            "  (0, 13947)\t1\n",
            "  (0, 45600)\t1\n",
            "  (0, 19696)\t1\n",
            "  (0, 18851)\t1\n",
            "  (0, 37494)\t1\n",
            "  (0, 9324)\t1\n",
            "  (0, 29393)\t1\n",
            "  (0, 166)\t1\n",
            "  (0, 11491)\t1\n",
            "  (0, 18281)\t1\n",
            "  (0, 9832)\t1\n",
            "  (0, 35121)\t1\n",
            "  (0, 36284)\t1\n",
            "  (0, 22371)\t1\n",
            "  (0, 10513)\t1\n",
            "  (0, 28870)\t1\n",
            "  (0, 22098)\t1\n",
            "  (0, 13055)\t1\n",
            "  (0, 12103)\t1\n",
            "  (0, 46640)\t1\n",
            "  (0, 35674)\t1\n",
            "  (0, 42671)\t1\n",
            "  (0, 6213)\t1\n",
            "  (0, 3617)\t1\n"
          ]
        }
      ]
    },
    {
      "cell_type": "code",
      "source": [
        "tfidf = TfidfTransformer()"
      ],
      "metadata": {
        "id": "jqhlVF6SdQ-L"
      },
      "execution_count": null,
      "outputs": []
    },
    {
      "cell_type": "code",
      "source": [
        "X = tfidf.fit_transform(X)"
      ],
      "metadata": {
        "id": "BOy-Gv25dTNl"
      },
      "execution_count": null,
      "outputs": []
    },
    {
      "cell_type": "code",
      "source": [
        "print(X[0])"
      ],
      "metadata": {
        "colab": {
          "base_uri": "https://localhost:8080/"
        },
        "id": "8w8Phyv_dWIS",
        "outputId": "7052d683-c316-4c2c-839f-b391714c240c"
      },
      "execution_count": null,
      "outputs": [
        {
          "output_type": "stream",
          "name": "stdout",
          "text": [
            "  (0, 166)\t0.03475328013909993\n",
            "  (0, 1983)\t0.07590584192166375\n",
            "  (0, 2732)\t0.055343234205392625\n",
            "  (0, 3617)\t0.054189987042393195\n",
            "  (0, 3876)\t0.122765319587759\n",
            "  (0, 4896)\t0.07834147279992872\n",
            "  (0, 5887)\t0.029580512641779674\n",
            "  (0, 6213)\t0.08645439467249252\n",
            "  (0, 7402)\t0.11915543645962015\n",
            "  (0, 7445)\t0.03123526061591797\n",
            "  (0, 7883)\t0.06335824915483708\n",
            "  (0, 8283)\t0.060889731870932016\n",
            "  (0, 8484)\t0.04156218349599297\n",
            "  (0, 8949)\t0.10649458572913884\n",
            "  (0, 9172)\t0.13238307641596536\n",
            "  (0, 9324)\t0.07203761843192731\n",
            "  (0, 9632)\t0.08298554496587077\n",
            "  (0, 9832)\t0.04458660964714327\n",
            "  (0, 9837)\t0.05621049340038231\n",
            "  (0, 10513)\t0.019910333333456903\n",
            "  (0, 10648)\t0.030477758166570845\n",
            "  (0, 11101)\t0.16838223172369027\n",
            "  (0, 11491)\t0.12921115585266482\n",
            "  (0, 11510)\t0.04245736106513316\n",
            "  (0, 11537)\t0.18233345999438524\n",
            "  :\t:\n",
            "  (0, 36284)\t0.013551787416772524\n",
            "  (0, 36599)\t0.08645439467249252\n",
            "  (0, 37494)\t0.22070184937573328\n",
            "  (0, 38611)\t0.11633786569423823\n",
            "  (0, 39036)\t0.06613651228122663\n",
            "  (0, 39090)\t0.0625646943134754\n",
            "  (0, 39309)\t0.009900303774781256\n",
            "  (0, 40295)\t0.03416382294482579\n",
            "  (0, 41390)\t0.0907300451560006\n",
            "  (0, 42671)\t0.03053567797130245\n",
            "  (0, 43629)\t0.0757576506873686\n",
            "  (0, 43878)\t0.02679248521253946\n",
            "  (0, 44217)\t0.025169922214176733\n",
            "  (0, 44258)\t0.12192231842526059\n",
            "  (0, 44298)\t0.01465873595309537\n",
            "  (0, 45259)\t0.14887232786499915\n",
            "  (0, 45600)\t0.017215449447494646\n",
            "  (0, 46640)\t0.05795628201953314\n",
            "  (0, 47252)\t0.07971232284244416\n",
            "  (0, 47313)\t0.047341495428174174\n",
            "  (0, 47400)\t0.06829789368664674\n",
            "  (0, 47851)\t0.040859731704528356\n",
            "  (0, 48721)\t0.02815429263974555\n",
            "  (0, 48723)\t0.030737815088562173\n",
            "  (0, 49128)\t0.04363694284241179\n"
          ]
        }
      ]
    },
    {
      "cell_type": "code",
      "source": [
        "X.sort_indices"
      ],
      "metadata": {
        "colab": {
          "base_uri": "https://localhost:8080/"
        },
        "id": "nCxBbk0-dZ13",
        "outputId": "ece09a78-61d6-46b0-9cd3-0d73ad0074b7"
      },
      "execution_count": null,
      "outputs": [
        {
          "output_type": "execute_result",
          "data": {
            "text/plain": [
              "<bound method _cs_matrix.sort_indices of <50000x50000 sparse matrix of type '<class 'numpy.float64'>'\n",
              "\twith 4533044 stored elements in Compressed Sparse Row format>>"
            ]
          },
          "metadata": {},
          "execution_count": 32
        }
      ]
    },
    {
      "cell_type": "code",
      "source": [
        "X.shape"
      ],
      "metadata": {
        "colab": {
          "base_uri": "https://localhost:8080/"
        },
        "id": "c7BsYK-RdciK",
        "outputId": "e5373c0b-297f-4967-87f4-1fb1cb0c1c3e"
      },
      "execution_count": null,
      "outputs": [
        {
          "output_type": "execute_result",
          "data": {
            "text/plain": [
              "(50000, 50000)"
            ]
          },
          "metadata": {},
          "execution_count": 33
        }
      ]
    },
    {
      "cell_type": "code",
      "source": [
        "y.shape"
      ],
      "metadata": {
        "colab": {
          "base_uri": "https://localhost:8080/"
        },
        "id": "oybnph8hdfjR",
        "outputId": "fe067ee2-3be1-40b7-b6d8-fe705c8a229d"
      },
      "execution_count": null,
      "outputs": [
        {
          "output_type": "execute_result",
          "data": {
            "text/plain": [
              "(50000,)"
            ]
          },
          "metadata": {},
          "execution_count": 34
        }
      ]
    },
    {
      "cell_type": "markdown",
      "source": [
        "Modelo de Deep learning"
      ],
      "metadata": {
        "id": "U4_nsrjCuzX-"
      }
    },
    {
      "cell_type": "code",
      "source": [
        "from keras import models\n",
        "from keras.layers import Dense"
      ],
      "metadata": {
        "id": "fiqyp6Aydopi"
      },
      "execution_count": null,
      "outputs": []
    },
    {
      "cell_type": "code",
      "source": [
        "model = models.Sequential()\n",
        "model.add( Dense(16, activation=\"relu\", input_shape = (X.shape[1],) ) )\n",
        "model.add( Dense(16, activation=\"relu\") )\n",
        "model.add( Dense(1, activation=\"sigmoid\"))"
      ],
      "metadata": {
        "id": "hZacYCTQdrH4"
      },
      "execution_count": null,
      "outputs": []
    },
    {
      "cell_type": "code",
      "source": [
        "model.compile(optimizer='rmsprop', loss=\"binary_crossentropy\", metrics=['accuracy'])\n"
      ],
      "metadata": {
        "id": "UGP0V2yrdtvI"
      },
      "execution_count": null,
      "outputs": []
    },
    {
      "cell_type": "markdown",
      "source": [
        "Entrenamiento del modelo y validación (test, train, validation) -> predict o similar."
      ],
      "metadata": {
        "id": "QjLzob4lvH1H"
      }
    },
    {
      "cell_type": "code",
      "source": [
        "X_val = X[:5000]\n",
        "X_train = X[5000:]\n",
        "\n",
        "y_val = y[:5000]\n",
        "y_train = y[5000:]"
      ],
      "metadata": {
        "id": "5YqavnfgdwxH"
      },
      "execution_count": null,
      "outputs": []
    },
    {
      "cell_type": "code",
      "source": [
        "hist = model.fit(X, y, batch_size=128, epochs=5, validation_data=(X_val, y_val))"
      ],
      "metadata": {
        "colab": {
          "base_uri": "https://localhost:8080/"
        },
        "id": "tef8twPodziU",
        "outputId": "61c6b201-46b3-4364-a442-189eeeb36fab"
      },
      "execution_count": null,
      "outputs": [
        {
          "output_type": "stream",
          "name": "stdout",
          "text": [
            "Epoch 1/5\n",
            "391/391 [==============================] - 6s 12ms/step - loss: 0.5112 - accuracy: 0.8224 - val_loss: 0.2846 - val_accuracy: 0.9150\n",
            "Epoch 2/5\n",
            "391/391 [==============================] - 5s 12ms/step - loss: 0.2282 - accuracy: 0.9183 - val_loss: 0.1722 - val_accuracy: 0.9434\n",
            "Epoch 3/5\n",
            "391/391 [==============================] - 5s 11ms/step - loss: 0.1695 - accuracy: 0.9389 - val_loss: 0.1414 - val_accuracy: 0.9548\n",
            "Epoch 4/5\n",
            "391/391 [==============================] - 5s 13ms/step - loss: 0.1432 - accuracy: 0.9503 - val_loss: 0.1177 - val_accuracy: 0.9622\n",
            "Epoch 5/5\n",
            "391/391 [==============================] - 8s 20ms/step - loss: 0.1243 - accuracy: 0.9587 - val_loss: 0.0997 - val_accuracy: 0.9680\n"
          ]
        }
      ]
    },
    {
      "cell_type": "code",
      "source": [
        "result = hist.history"
      ],
      "metadata": {
        "id": "BClzeBjSjm1f"
      },
      "execution_count": null,
      "outputs": []
    },
    {
      "cell_type": "code",
      "source": [
        "plt.plot(result['val_accuracy'], label = \"Val accuracy\")\n",
        "plt.plot(result['accuracy'], label = \"Train accuracy\")\n",
        "plt.legend()\n",
        "plt.show()"
      ],
      "metadata": {
        "colab": {
          "base_uri": "https://localhost:8080/",
          "height": 265
        },
        "id": "gZaXRCWhjuUu",
        "outputId": "e16039f9-ed79-4a29-f29d-6e2362e73ae4"
      },
      "execution_count": null,
      "outputs": [
        {
          "output_type": "display_data",
          "data": {
            "text/plain": [
              "<Figure size 432x288 with 1 Axes>"
            ],
            "image/png": "[encoded data removed]"
          },
          "metadata": {
            "needs_background": "light"
          }
        }
      ]
    },
    {
      "cell_type": "code",
      "source": [
        "plt.plot(result['val_loss'], label = \"Val loss\")\n",
        "plt.plot(result['loss'], label = \"Train loss\")\n",
        "plt.legend()\n",
        "plt.show()"
      ],
      "metadata": {
        "colab": {
          "base_uri": "https://localhost:8080/",
          "height": 265
        },
        "id": "3Td1_J-2jxxG",
        "outputId": "54934c97-0140-43e7-9d06-cafe459a3ed9"
      },
      "execution_count": null,
      "outputs": [
        {
          "output_type": "display_data",
          "data": {
            "text/plain": [
              "<Figure size 432x288 with 1 Axes>"
            ],
            "image/png": "[encoded data removed]"
          },
          "metadata": {
            "needs_background": "light"
          }
        }
      ]
    },
    {
      "cell_type": "code",
      "source": [
        "model.evaluate(X_val, y_val)"
      ],
      "metadata": {
        "colab": {
          "base_uri": "https://localhost:8080/"
        },
        "id": "0xM4Ddw8j1DR",
        "outputId": "aca0c33c-4172-4339-e536-057bf1686797"
      },
      "execution_count": null,
      "outputs": [
        {
          "output_type": "stream",
          "name": "stdout",
          "text": [
            "157/157 [==============================] - 1s 6ms/step - loss: 0.0997 - accuracy: 0.9680\n"
          ]
        },
        {
          "output_type": "execute_result",
          "data": {
            "text/plain": [
              "[0.099668487906456, 0.9679999947547913]"
            ]
          },
          "metadata": {},
          "execution_count": 43
        }
      ]
    },
    {
      "cell_type": "code",
      "source": [
        "from sklearn.metrics import classification_report,confusion_matrix\n",
        "predict_train = model.predict(X_train)\n",
        "p_pred = predict_train.flatten()\n",
        "#print(p_pred.round(2))\n",
        "#print(confusion_matrix(y_train,predict_train))\n",
        "#print(classification_report(y_train,predict_train))\n",
        "\n",
        "y_pred = np.where(p_pred > 0.5, 1, 0)\n",
        "print(y_pred)"
      ],
      "metadata": {
        "colab": {
          "base_uri": "https://localhost:8080/"
        },
        "id": "Y6vU-OeF-v5w",
        "outputId": "5ff74cd0-0c81-46c6-acef-8339b6c73af5"
      },
      "execution_count": null,
      "outputs": [
        {
          "output_type": "stream",
          "name": "stdout",
          "text": [
            "1407/1407 [==============================] - 4s 3ms/step\n",
            "[1 1 0 ... 0 0 1]\n"
          ]
        }
      ]
    },
    {
      "cell_type": "code",
      "source": [
        "print(confusion_matrix(y_train, y_pred))"
      ],
      "metadata": {
        "colab": {
          "base_uri": "https://localhost:8080/"
        },
        "id": "e4yOJC0cBOgN",
        "outputId": "fe0740a9-4393-4e2a-97b4-ba9283e9cbf1"
      },
      "execution_count": null,
      "outputs": [
        {
          "output_type": "stream",
          "name": "stdout",
          "text": [
            "[[21863   616]\n",
            " [  695 21826]]\n"
          ]
        }
      ]
    },
    {
      "cell_type": "code",
      "source": [
        "print(classification_report(y_train, y_pred))"
      ],
      "metadata": {
        "id": "BQXnv0DKBbta",
        "outputId": "89b402ef-5619-4870-f776-063d9a6531a4",
        "colab": {
          "base_uri": "https://localhost:8080/"
        }
      },
      "execution_count": null,
      "outputs": [
        {
          "output_type": "stream",
          "name": "stdout",
          "text": [
            "              precision    recall  f1-score   support\n",
            "\n",
            "           0       0.97      0.97      0.97     22479\n",
            "           1       0.97      0.97      0.97     22521\n",
            "\n",
            "    accuracy                           0.97     45000\n",
            "   macro avg       0.97      0.97      0.97     45000\n",
            "weighted avg       0.97      0.97      0.97     45000\n",
            "\n"
          ]
        }
      ]
    }
  ]
}